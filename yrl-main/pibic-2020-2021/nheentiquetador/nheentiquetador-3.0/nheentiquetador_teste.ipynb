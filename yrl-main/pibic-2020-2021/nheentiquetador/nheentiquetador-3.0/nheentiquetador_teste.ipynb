{
 "cells": [
  {
   "cell_type": "code",
   "execution_count": 1,
   "id": "df4910d9-c88b-446c-b94d-d7be03faaacf",
   "metadata": {},
   "outputs": [
    {
     "name": "stdout",
     "output_type": "stream",
     "text": [
      "Infile name: corpus_test.txt\n"
     ]
    },
    {
     "ename": "FileNotFoundError",
     "evalue": "[Errno 2] No such file or directory: 'corpus_test.txt'",
     "output_type": "error",
     "traceback": [
      "\u001b[1;31m---------------------------------------------------------------------------\u001b[0m",
      "\u001b[1;31mFileNotFoundError\u001b[0m                         Traceback (most recent call last)",
      "\u001b[1;32m<ipython-input-1-0c5b1a7f7d94>\u001b[0m in \u001b[0;36m<module>\u001b[1;34m\u001b[0m\n\u001b[0;32m     14\u001b[0m \u001b[0moutfilename\u001b[0m\u001b[1;33m=\u001b[0m\u001b[1;34m\"%s_output.txt\"\u001b[0m \u001b[1;33m%\u001b[0m \u001b[1;33m(\u001b[0m\u001b[0minfilename\u001b[0m\u001b[1;33m.\u001b[0m\u001b[0msplit\u001b[0m\u001b[1;33m(\u001b[0m\u001b[1;34m\".\"\u001b[0m\u001b[1;33m,\u001b[0m\u001b[1;36m1\u001b[0m\u001b[1;33m)\u001b[0m\u001b[1;33m[\u001b[0m\u001b[1;36m0\u001b[0m\u001b[1;33m]\u001b[0m\u001b[1;33m)\u001b[0m\u001b[1;33m\u001b[0m\u001b[1;33m\u001b[0m\u001b[0m\n\u001b[0;32m     15\u001b[0m \u001b[1;33m\u001b[0m\u001b[0m\n\u001b[1;32m---> 16\u001b[1;33m \u001b[1;32mwith\u001b[0m \u001b[0mopen\u001b[0m\u001b[1;33m(\u001b[0m\u001b[0minfilename\u001b[0m\u001b[1;33m,\u001b[0m \u001b[1;34m'r'\u001b[0m\u001b[1;33m,\u001b[0m \u001b[0mencoding\u001b[0m\u001b[1;33m=\u001b[0m\u001b[1;34m'utf-8'\u001b[0m\u001b[1;33m)\u001b[0m \u001b[1;32mas\u001b[0m \u001b[0mf\u001b[0m\u001b[1;33m:\u001b[0m\u001b[1;33m\u001b[0m\u001b[1;33m\u001b[0m\u001b[0m\n\u001b[0m\u001b[0;32m     17\u001b[0m     \u001b[0minfile\u001b[0m \u001b[1;33m=\u001b[0m \u001b[0mf\u001b[0m\u001b[1;33m.\u001b[0m\u001b[0mreadlines\u001b[0m\u001b[1;33m(\u001b[0m\u001b[1;33m)\u001b[0m\u001b[1;33m\u001b[0m\u001b[1;33m\u001b[0m\u001b[0m\n\u001b[0;32m     18\u001b[0m \u001b[1;33m\u001b[0m\u001b[0m\n",
      "\u001b[1;31mFileNotFoundError\u001b[0m: [Errno 2] No such file or directory: 'corpus_test.txt'"
     ]
    }
   ],
   "source": [
    "#! /usr/bin/env python3\n",
    "# -- coding: utf-8 --\n",
    "# Copyright © 2021 Federal University of Ceará\n",
    "\n",
    "# Authors: Leidiana Iza Andrade Freitas, Dominick Maia Alexandre, Juliana Lopes Gurgel\n",
    "# <izafreitas@alu.ufc.br; domimaia@alu.ufc.br; julianalgurgel@alu.ufc.br>\n",
    "# Date: 29/05/2021\n",
    "\n",
    "import pandas as pd\n",
    "\n",
    "yrl_glossary = 'dic_test.txt'\n",
    "\n",
    "infilename = input('Infile name: ')\n",
    "outfilename=\"%s_output.txt\" % (infilename.split(\".\",1)[0])\n",
    "\n",
    "with open(infilename, 'r', encoding='utf-8') as f:\n",
    "    infile = f.readlines()\n",
    "\n",
    "# defining function to tag words\n",
    "def tag_word(line, glossary):\n",
    "    tagged_word = line.lower()\n",
    "\n",
    "# tagging words\n",
    "    for word, tag in glossary.items():\n",
    "        tagged_word = tagged_word.replace(word.lower(), word.lower() + '\\\\' + tag)\n",
    "\n",
    "# tagging nouns inflected in the plural\n",
    "        if '\\\\N-itá' in tagged_word:\n",
    "            tagged_word = tagged_word.replace('\\\\N-itá', '-itá')\n",
    "            tagged_word = tagged_word.replace(word.lower(), word.lower() + '\\\\' + tag)\n",
    "\n",
    "# printing proper names with capital letters\n",
    "        if 'N-PRO' in tag:\n",
    "            tagged_word = tagged_word.replace(word.lower(), word.capitalize())\n",
    "# printing uppercase tags\n",
    "    for tag in glossary.values():\n",
    "            tagged_word = tagged_word.replace(tag, tag.upper())\n",
    "\n",
    "    return tagged_word[0].upper() + tagged_word[1:]\n",
    "\n",
    "df = pd.read_csv(yrl_glossary, sep='\\t', header=None, index_col=0)\n",
    "glossary = df.to_dict()[1]\n",
    "\n",
    "# infile will contain a list where each item is a line\n",
    "# e.g. infile[0] = line 1.\n",
    "with open(infilename) as file:\n",
    "    lines = file.readlines()\n",
    "lines = [word.strip() for word in lines if word != '\\n']\n",
    "\n",
    "# tagging words in each line of the infile with tag_word function\n",
    "tagged_words = [tag_word(word, glossary) for word in lines]\n",
    "\n",
    "# saving tagged outfile\n",
    "with open(outfilename, 'w+', encoding='utf-8') as outfile:\n",
    "    for tagged_word in tagged_words:\n",
    "        outfile.write(f'{tagged_word}\\n\\n')"
   ]
  },
  {
   "cell_type": "code",
   "execution_count": null,
   "id": "86e55cbb-3403-45d7-ae9c-2459a96aeb9a",
   "metadata": {},
   "outputs": [],
   "source": []
  }
 ],
 "metadata": {
  "kernelspec": {
   "display_name": "Python 3",
   "language": "python",
   "name": "python3"
  },
  "language_info": {
   "codemirror_mode": {
    "name": "ipython",
    "version": 3
   },
   "file_extension": ".py",
   "mimetype": "text/x-python",
   "name": "python",
   "nbconvert_exporter": "python",
   "pygments_lexer": "ipython3",
   "version": "3.8.8"
  }
 },
 "nbformat": 4,
 "nbformat_minor": 5
}
