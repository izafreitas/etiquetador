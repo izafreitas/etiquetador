{
 "cells": [
  {
   "cell_type": "code",
   "execution_count": 3,
   "id": "9c8bbcd4-7ae1-407f-aa47-4e8e6120f8a7",
   "metadata": {},
   "outputs": [],
   "source": [
    "#! /usr/bin/env python3\n",
    "# -- coding: utf-8 --\n",
    "# Copyright © 2021 Federal University of Ceará\n",
    "\n",
    "# Authors: Dominick Maia Alexandre, Juliana Lopes Gurgel\n",
    "# <domimaia@alu.ufc.br; julianalgurgel@alu.ufc.br>\n",
    "# Date: 09/07/2021\n",
    "\n",
    "import pandas as pd\n",
    "\n",
    "yrl_glossary = 'sn-yrl-dict.txt'\n",
    "\n",
    "with open('TEST-SET.txt', 'r', encoding='utf-8') as f:\n",
    "    infile = f.readlines()\n",
    "\n",
    "df = pd.read_csv(yrl_glossary, sep='\\t', header=None, index_col=0)\n",
    "glossary = df.to_dict()[1]\n",
    "\n",
    "outlines = []\n",
    "\n",
    "for line in infile:\n",
    "    list_of_words = line.lower().split()\n",
    "\n",
    "    new_line = ''\n",
    "\n",
    "    for word in list_of_words:\n",
    "\n",
    "        if word in glossary:\n",
    "            new_line += word + '\\\\' + glossary[word] + ' '\n",
    "        else:\n",
    "            new_line += word + ' '\n",
    "\n",
    "    outlines.append(new_line.strip() + '\\n')\n",
    "\n",
    "with open('TEST-SET-tagged.txt', 'w', encoding='utf-8') as f:\n",
    "    f.writelines(outlines)"
   ]
  },
  {
   "cell_type": "code",
   "execution_count": null,
   "id": "640fe3e9-0b43-48df-9f1a-c0c10b63b66f",
   "metadata": {},
   "outputs": [],
   "source": []
  }
 ],
 "metadata": {
  "kernelspec": {
   "display_name": "Python 3",
   "language": "python",
   "name": "python3"
  },
  "language_info": {
   "codemirror_mode": {
    "name": "ipython",
    "version": 3
   },
   "file_extension": ".py",
   "mimetype": "text/x-python",
   "name": "python",
   "nbconvert_exporter": "python",
   "pygments_lexer": "ipython3",
   "version": "3.8.8"
  }
 },
 "nbformat": 4,
 "nbformat_minor": 5
}
